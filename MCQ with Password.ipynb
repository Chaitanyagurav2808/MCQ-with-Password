{
 "cells": [
  {
   "cell_type": "code",
   "execution_count": 2,
   "id": "c877c6f8-39f2-4eea-aff5-b4df611cc861",
   "metadata": {},
   "outputs": [
    {
     "name": "stdin",
     "output_type": "stream",
     "text": [
      "Set your password:  chaitanya\n",
      "Enter your password:  cha\n"
     ]
    },
    {
     "name": "stdout",
     "output_type": "stream",
     "text": [
      "Wrong password\n"
     ]
    },
    {
     "name": "stdin",
     "output_type": "stream",
     "text": [
      "Enter your password again.. You have only 2 chances left:  cha\n"
     ]
    },
    {
     "name": "stdout",
     "output_type": "stream",
     "text": [
      "Wrong password\n"
     ]
    },
    {
     "name": "stdin",
     "output_type": "stream",
     "text": [
      "Enter your password again... You have only 1 chance left:  chaitanya\n"
     ]
    },
    {
     "name": "stdout",
     "output_type": "stream",
     "text": [
      "Right password\n",
      "1. Who invented Java Programming?\n",
      "   1.) Guido van Rossum\n",
      "   2.) James Gosling\n",
      "   3.) Dennis Ritchie\n",
      "   4.) Bjarne Stroustrup\n"
     ]
    },
    {
     "name": "stdin",
     "output_type": "stream",
     "text": [
      "Enter your answer:  2\n"
     ]
    },
    {
     "name": "stdout",
     "output_type": "stream",
     "text": [
      "Right Answer\n",
      "2. Which component is used to compile, debug and execute the Java programs?\n",
      "   1.) JRE\n",
      "   2.) JIT\n",
      "   3.) JDK\n",
      "   4.) JVM\n"
     ]
    },
    {
     "name": "stdin",
     "output_type": "stream",
     "text": [
      "Enter your answer:  1\n"
     ]
    },
    {
     "name": "stdout",
     "output_type": "stream",
     "text": [
      "Byee Byee\n"
     ]
    }
   ],
   "source": [
    "# Code \n",
    "\n",
    "\n",
    "user = str(input(\"Set your password: \"))\n",
    "user1 = str(input(\"Enter your password: \"))\n",
    "\n",
    "if user == user1:\n",
    "    print(\"Right password\")\n",
    "    print(\"\"\"1. Who invented Java Programming?\n",
    "   1.) Guido van Rossum\n",
    "   2.) James Gosling\n",
    "   3.) Dennis Ritchie\n",
    "   4.) Bjarne Stroustrup\"\"\")\n",
    "\n",
    "    answer1 = int(input(\"Enter your answer: \"))\n",
    "\n",
    "    if answer1 == 2:\n",
    "        print(\"Right Answer\")\n",
    "        print(\"\"\"2. Which component is used to compile, debug and execute the Java programs?\n",
    "   1.) JRE\n",
    "   2.) JIT\n",
    "   3.) JDK\n",
    "   4.) JVM\"\"\")\n",
    "\n",
    "        answer2 = int(input(\"Enter your answer: \"))\n",
    "\n",
    "        if answer2 == 2:\n",
    "            print(\"Right answer\")\n",
    "        else:\n",
    "            print(\"Byee Byee\")\n",
    "    else:\n",
    "        print(\"Try next year\")\n",
    "\n",
    "else:\n",
    "    print(\"Wrong password\")\n",
    "\n",
    "    user3 = str(input(\"Enter your password again.. You have only 2 chances left: \"))\n",
    "\n",
    "    if user3 == user:\n",
    "        print(\"Right password\")\n",
    "        print(\"\"\"1. Who invented Java Programming?\n",
    "   1.) Guido van Rossum\n",
    "   2.) James Gosling\n",
    "   3.) Dennis Ritchie\n",
    "   4.) Bjarne Stroustrup\"\"\")\n",
    "\n",
    "        answer1 = int(input(\"Enter your answer: \"))\n",
    "\n",
    "        if answer1 == 2:\n",
    "            print(\"Right Answer\")\n",
    "            print(\"\"\"2. Which component is used to compile, debug and execute the Java programs?\n",
    "   1.) JRE\n",
    "   2.) JIT\n",
    "   3.) JDK\n",
    "   4.) JVM\"\"\")\n",
    "\n",
    "            answer2 = int(input(\"Enter your answer: \"))\n",
    "\n",
    "            if answer2 == 2:\n",
    "                print(\"Right answer\")\n",
    "            else:\n",
    "                print(\"Byee Byee\")\n",
    "        else:\n",
    "            print(\"Try next year\")\n",
    "\n",
    "    else:\n",
    "        print(\"Wrong password\")\n",
    "        user4 = str(input(\"Enter your password again... You have only 1 chance left: \"))\n",
    "\n",
    "        if user4 == user:\n",
    "            print(\"Right password\")\n",
    "            print(\"\"\"1. Who invented Java Programming?\n",
    "   1.) Guido van Rossum\n",
    "   2.) James Gosling\n",
    "   3.) Dennis Ritchie\n",
    "   4.) Bjarne Stroustrup\"\"\")\n",
    "\n",
    "            answer1 = int(input(\"Enter your answer: \"))\n",
    "\n",
    "            if answer1 == 2:\n",
    "                print(\"Right Answer\")\n",
    "                print(\"\"\"2. Which component is used to compile, debug and execute the Java programs?\n",
    "   1.) JRE\n",
    "   2.) JIT\n",
    "   3.) JDK\n",
    "   4.) JVM\"\"\")\n",
    "\n",
    "                answer2 = int(input(\"Enter your answer: \"))\n",
    "\n",
    "                if answer2 == 2:\n",
    "                    print(\"Right Answer\")\n",
    "                else:\n",
    "                    print(\"Byee Byee\")\n",
    "            else:\n",
    "                print(\"Try next year\")\n",
    "\n",
    "        else:\n",
    "            print(\"Wrong password\")\n",
    "            user5 = str(input(\"Enter your password again... This is your last chance: \"))\n",
    "\n",
    "            if user5 == user:\n",
    "                print(\"Right password\")\n",
    "                print(\"\"\"1. Who invented Java Programming?\n",
    "   1.) Guido van Rossum\n",
    "   2.) James Gosling\n",
    "   3.) Dennis Ritchie\n",
    "   4.) Bjarne Stroustrup\"\"\")\n",
    "\n",
    "                answer1 = int(input(\"Enter your answer: \"))\n",
    "\n",
    "                if answer1 == 2:\n",
    "                    print(\"Right Answer\")\n",
    "                    print(\"\"\"2. Which component is used to compile, debug and execute the Java programs?\n",
    "   1.) JRE\n",
    "   2.) JIT\n",
    "   3.) JDK\n",
    "   4.) JVM\"\"\")\n",
    "\n",
    "                    answer2 = int(input(\"Enter your answer: \"))\n",
    "\n",
    "                    if answer2 == 2:\n",
    "                        print(\"Right Answer\")\n",
    "                    else:\n",
    "                        print(\"Byee Byee\")\n",
    "                else:\n",
    "                    print(\"Try next year\")\n",
    "            else:\n",
    "                print(\"Wrong password\")"
   ]
  },
  {
   "cell_type": "code",
   "execution_count": null,
   "id": "5d3047ec-1fe0-490a-9ac7-e775805a724b",
   "metadata": {},
   "outputs": [],
   "source": []
  }
 ],
 "metadata": {
  "kernelspec": {
   "display_name": "Python 3 (ipykernel)",
   "language": "python",
   "name": "python3"
  },
  "language_info": {
   "codemirror_mode": {
    "name": "ipython",
    "version": 3
   },
   "file_extension": ".py",
   "mimetype": "text/x-python",
   "name": "python",
   "nbconvert_exporter": "python",
   "pygments_lexer": "ipython3",
   "version": "3.12.4"
  }
 },
 "nbformat": 4,
 "nbformat_minor": 5
}
